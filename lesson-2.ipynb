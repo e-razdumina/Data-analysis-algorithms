{
 "cells": [
  {
   "cell_type": "markdown",
   "metadata": {},
   "source": [
    "# Lesson 2"
   ]
  },
  {
   "cell_type": "code",
   "execution_count": 1,
   "metadata": {},
   "outputs": [],
   "source": [
    "from sklearn import datasets\n",
    "from matplotlib import pyplot as plt\n",
    "import numpy as np"
   ]
  },
  {
   "cell_type": "markdown",
   "metadata": {},
   "source": [
    "# 1"
   ]
  },
  {
   "cell_type": "markdown",
   "metadata": {},
   "source": [
    "Сгенерировать датасет при помощи sklearn.datasets.make_regression и обучить линейную модель при помощи градиентного и стохастического градиентного спуска. Нанести среднеквадратичную ошибку для обоих методов на один график, сделать выводы о разнице скорости сходимости каждого из методов."
   ]
  },
  {
   "cell_type": "code",
   "execution_count": 2,
   "metadata": {},
   "outputs": [],
   "source": [
    "data, target, coef = datasets.make_regression(n_samples=1000, n_features = 2, n_informative = 2, n_targets = 1, \n",
    "                                              noise = 5, coef = True, random_state = 42)"
   ]
  },
  {
   "cell_type": "code",
   "execution_count": 3,
   "metadata": {},
   "outputs": [],
   "source": [
    "def mserror(X, w, y_pred):\n",
    "    \n",
    "    y = X.dot(w)\n",
    "    return (sum((y - y_pred)**2)) / len(y)"
   ]
  },
  {
   "cell_type": "code",
   "execution_count": 4,
   "metadata": {},
   "outputs": [],
   "source": [
    "means = np.mean(data, axis=0)\n",
    "stds = np.std(data, axis=0)"
   ]
  },
  {
   "cell_type": "code",
   "execution_count": 5,
   "metadata": {},
   "outputs": [],
   "source": [
    "for i in range(data.shape[0]):\n",
    "    for j in range(data.shape[1]):\n",
    "        data[i][j] = (data[i][j] - means[j])/stds[j]"
   ]
  },
  {
   "cell_type": "code",
   "execution_count": 6,
   "metadata": {},
   "outputs": [],
   "source": [
    "gd_error = []\n",
    "gds_error = []\n",
    "gds_error_l2 = []"
   ]
  },
  {
   "cell_type": "code",
   "execution_count": 7,
   "metadata": {},
   "outputs": [
    {
     "name": "stdout",
     "output_type": "stream",
     "text": [
      "Iteration: 500, mse = 27.264194283234012\n",
      "Iteration: 1000, mse = 27.26419164789096\n",
      "Iteration: 1500, mse = 27.264191647890996\n",
      "Iteration: 2000, mse = 27.26419164789099\n",
      "Iteration: 2500, mse = 27.26419164789099\n",
      "Iteration: 3000, mse = 27.26419164789099\n",
      "Iteration: 3500, mse = 27.26419164789099\n",
      "Iteration: 4000, mse = 27.26419164789099\n",
      "Iteration: 4500, mse = 27.26419164789099\n",
      "Iteration: 5000, mse = 27.26419164789099\n",
      "Iteration: 5500, mse = 27.26419164789099\n",
      "Iteration: 6000, mse = 27.26419164789099\n",
      "Iteration: 6500, mse = 27.26419164789099\n",
      "Iteration: 7000, mse = 27.26419164789099\n",
      "Iteration: 7500, mse = 27.26419164789099\n",
      "Iteration: 8000, mse = 27.26419164789099\n",
      "Iteration: 8500, mse = 27.26419164789099\n",
      "Iteration: 9000, mse = 27.26419164789099\n",
      "Iteration: 9500, mse = 27.26419164789099\n",
      "Iteration: 10000, mse = 27.26419164789099\n"
     ]
    }
   ],
   "source": [
    "# градиентный спуск \n",
    "\n",
    "X = np.copy(data)\n",
    "y = np.copy(target)\n",
    "\n",
    "w = np.zeros(2)\n",
    "alpha = 0.01\n",
    "max_iter = 10000\n",
    "min_weight_dist = 1e-8\n",
    "weight_dist = np.inf\n",
    "iter_num = 0\n",
    "\n",
    "while iter_num < max_iter:\n",
    "    new_w = w - 2 * alpha * np.dot(X.T, (np.dot(X, w) - y)) / y.shape[0]\n",
    "    weight_dist = np.linalg.norm(new_w - w, ord=2)\n",
    "        \n",
    "    iter_num += 1\n",
    "    w = new_w\n",
    "    \n",
    "    gd_error.append(mserror(X, new_w, y))\n",
    "    \n",
    "    if iter_num%500==0:\n",
    "        print(f'Iteration: {iter_num}, mse = {mserror(X, new_w, y)}')  "
   ]
  },
  {
   "cell_type": "code",
   "execution_count": 8,
   "metadata": {},
   "outputs": [
    {
     "name": "stdout",
     "output_type": "stream",
     "text": [
      "Iteration: 500, mse = 1314.9949928029557\n",
      "Iteration: 1000, mse = 1085.1520906605633\n",
      "Iteration: 1500, mse = 890.401268108155\n",
      "Iteration: 2000, mse = 725.5758085209078\n",
      "Iteration: 2500, mse = 595.1847375334039\n",
      "Iteration: 3000, mse = 495.76622659845276\n",
      "Iteration: 3500, mse = 408.3181196269246\n",
      "Iteration: 4000, mse = 333.13104244336074\n",
      "Iteration: 4500, mse = 277.19965346028556\n",
      "Iteration: 5000, mse = 232.56609877934105\n",
      "Iteration: 5500, mse = 195.43079905325212\n",
      "Iteration: 6000, mse = 164.9815729924472\n",
      "Iteration: 6500, mse = 140.4971285335495\n",
      "Iteration: 7000, mse = 118.60217403316048\n",
      "Iteration: 7500, mse = 103.32885465622464\n",
      "Iteration: 8000, mse = 90.72053915843182\n",
      "Iteration: 8500, mse = 77.48008906163649\n",
      "Iteration: 9000, mse = 67.65017199867663\n",
      "Iteration: 9500, mse = 60.37235301723245\n",
      "Iteration: 10000, mse = 54.33107628294757\n"
     ]
    }
   ],
   "source": [
    "# стохастический градиентного спуска\n",
    "\n",
    "X = np.copy(data)\n",
    "y = np.copy(target)\n",
    "\n",
    "w = np.zeros(2)\n",
    "alpha = 0.1\n",
    "max_iter = 10000\n",
    "weight_dist = np.inf\n",
    "iter_num = 0\n",
    "np.random.seed(42)\n",
    "\n",
    "while iter_num < max_iter:\n",
    "    \n",
    "    train_ind = np.random.randint(X.shape[0])\n",
    "    new_w = w - 2 * alpha * np.dot(X[train_ind].T, (np.dot(X[train_ind], w) - y[train_ind])) / y.shape[0]\n",
    "\n",
    "    weight_dist = np.linalg.norm(new_w - w, ord=2)\n",
    "    gds_error.append(mserror(X, new_w, y))\n",
    "    \n",
    "    iter_num += 1\n",
    "    w = new_w\n",
    "    \n",
    "    if iter_num%500==0:\n",
    "        print(f'Iteration: {iter_num}, mse = {mserror(X, new_w, y)}') "
   ]
  },
  {
   "cell_type": "code",
   "execution_count": 9,
   "metadata": {},
   "outputs": [
    {
     "data": {
      "text/plain": [
       "Text(0, 0.5, 'MSE')"
      ]
     },
     "execution_count": 9,
     "metadata": {},
     "output_type": "execute_result"
    },
    {
     "data": {
      "image/png": "[encoded data removed]",
      "text/plain": [
       "<Figure size 432x288 with 1 Axes>"
      ]
     },
     "metadata": {
      "needs_background": "light"
     },
     "output_type": "display_data"
    }
   ],
   "source": [
    "plt.plot(range(len(gd_error)), gd_error, color='r')\n",
    "plt.plot(range(len(gds_error)), gds_error, color='g')\n",
    "plt.title('MSE')\n",
    "plt.xlabel('Iteration number')\n",
    "plt.ylabel('MSE')"
   ]
  },
  {
   "cell_type": "markdown",
   "metadata": {},
   "source": [
    "# 2"
   ]
  },
  {
   "cell_type": "markdown",
   "metadata": {},
   "source": [
    "Модифицировать решение первого задания путем добавления 𝐿2 -регуляризации (в функцию, считающую MSE, нужно добавить норму вектора весов) и сравнить результаты."
   ]
  },
  {
   "cell_type": "code",
   "execution_count": 10,
   "metadata": {},
   "outputs": [],
   "source": [
    "def mserror_l2(X, w, y_pred):\n",
    "    \n",
    "    y = X.dot(w) \n",
    "    return (sum((y - y_pred)**2)) / len(y) + sum(w)**2"
   ]
  },
  {
   "cell_type": "code",
   "execution_count": 11,
   "metadata": {},
   "outputs": [
    {
     "name": "stdout",
     "output_type": "stream",
     "text": [
      "Iteration: 500, mse = 1314.9949928029557\n",
      "Iteration: 1000, mse = 1085.1520906605633\n",
      "Iteration: 1500, mse = 890.401268108155\n",
      "Iteration: 2000, mse = 725.5758085209078\n",
      "Iteration: 2500, mse = 595.1847375334039\n",
      "Iteration: 3000, mse = 495.76622659845276\n",
      "Iteration: 3500, mse = 408.3181196269246\n",
      "Iteration: 4000, mse = 333.13104244336074\n",
      "Iteration: 4500, mse = 277.19965346028556\n",
      "Iteration: 5000, mse = 232.56609877934105\n",
      "Iteration: 5500, mse = 195.43079905325212\n",
      "Iteration: 6000, mse = 164.9815729924472\n",
      "Iteration: 6500, mse = 140.4971285335495\n",
      "Iteration: 7000, mse = 118.60217403316048\n",
      "Iteration: 7500, mse = 103.32885465622464\n",
      "Iteration: 8000, mse = 90.72053915843182\n",
      "Iteration: 8500, mse = 77.48008906163649\n",
      "Iteration: 9000, mse = 67.65017199867663\n",
      "Iteration: 9500, mse = 60.37235301723245\n",
      "Iteration: 10000, mse = 54.33107628294757\n"
     ]
    }
   ],
   "source": [
    "# стохастический градиентного спуска\n",
    "\n",
    "X = np.copy(data)\n",
    "y = np.copy(target)\n",
    "\n",
    "w = np.zeros(2)\n",
    "alpha = 0.1\n",
    "max_iter = 10000\n",
    "weight_dist = np.inf\n",
    "iter_num = 0\n",
    "np.random.seed(42)\n",
    "\n",
    "while iter_num < max_iter:\n",
    "    \n",
    "    train_ind = np.random.randint(X.shape[0])\n",
    "    new_w = w - 2 * alpha * np.dot(X[train_ind].T, (np.dot(X[train_ind], w) - y[train_ind])) / y.shape[0]\n",
    "\n",
    "    weight_dist = np.linalg.norm(new_w - w, ord=2)\n",
    "    gds_error_l2.append(mserror_l2(X, new_w, y))\n",
    "    \n",
    "    iter_num += 1\n",
    "    w = new_w\n",
    "    \n",
    "    if iter_num%500==0:\n",
    "        print(f'Iteration: {iter_num}, mse = {mserror(X, new_w, y)}') "
   ]
  },
  {
   "cell_type": "code",
   "execution_count": 12,
   "metadata": {},
   "outputs": [
    {
     "data": {
      "text/plain": [
       "Text(0, 0.5, 'MSE')"
      ]
     },
     "execution_count": 12,
     "metadata": {},
     "output_type": "execute_result"
    },
    {
     "data": {
      "image/png": "[encoded data removed]",
      "text/plain": [
       "<Figure size 432x288 with 1 Axes>"
      ]
     },
     "metadata": {
      "needs_background": "light"
     },
     "output_type": "display_data"
    }
   ],
   "source": [
    "plt.plot(range(len(gds_error_l2)), gds_error_l2, color='r')\n",
    "plt.plot(range(len(gds_error)), gds_error, color='g')\n",
    "plt.title('MSE')\n",
    "plt.xlabel('Iteration number')\n",
    "plt.ylabel('MSE')"
   ]
  },
  {
   "cell_type": "code",
   "execution_count": null,
   "metadata": {},
   "outputs": [],
   "source": []
  },
  {
   "cell_type": "code",
   "execution_count": null,
   "metadata": {},
   "outputs": [],
   "source": []
  },
  {
   "cell_type": "code",
   "execution_count": null,
   "metadata": {},
   "outputs": [],
   "source": []
  }
 ],
 "metadata": {
  "kernelspec": {
   "display_name": "Python 3",
   "language": "python",
   "name": "python3"
  },
  "language_info": {
   "codemirror_mode": {
    "name": "ipython",
    "version": 3
   },
   "file_extension": ".py",
   "mimetype": "text/x-python",
   "name": "python",
   "nbconvert_exporter": "python",
   "pygments_lexer": "ipython3",
   "version": "3.7.4"
  }
 },
 "nbformat": 4,
 "nbformat_minor": 2
}
