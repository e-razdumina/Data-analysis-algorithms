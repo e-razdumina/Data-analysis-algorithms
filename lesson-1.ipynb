{
 "cells": [
  {
   "cell_type": "markdown",
   "metadata": {},
   "source": [
    "# Lesson 1"
   ]
  },
  {
   "cell_type": "code",
   "execution_count": 1,
   "metadata": {},
   "outputs": [],
   "source": [
    "import numpy as np"
   ]
  },
  {
   "cell_type": "markdown",
   "metadata": {},
   "source": [
    "# 1"
   ]
  },
  {
   "cell_type": "markdown",
   "metadata": {},
   "source": [
    "Подберите скорость обучения (alpha) и количество итераций для достижения минимального значения функции потерь"
   ]
  },
  {
   "cell_type": "code",
   "execution_count": 2,
   "metadata": {},
   "outputs": [],
   "source": [
    "# вариант с алгоритмом из методички (немного переработала)"
   ]
  },
  {
   "cell_type": "code",
   "execution_count": 3,
   "metadata": {},
   "outputs": [],
   "source": [
    "np.random.seed(1234)"
   ]
  },
  {
   "cell_type": "code",
   "execution_count": 4,
   "metadata": {},
   "outputs": [],
   "source": [
    "n_features = 2\n",
    "n_objects = 1000\n",
    "w_true = np.random.normal(size=(n_features, ))\n",
    "w = np.zeros(n_features)"
   ]
  },
  {
   "cell_type": "code",
   "execution_count": 5,
   "metadata": {},
   "outputs": [],
   "source": [
    "X = np.random.uniform(-7, 7, (n_objects, n_features))\n",
    "Y = X.dot(w_true) + np.random.normal(0, 0.5, size=(n_objects))"
   ]
  },
  {
   "cell_type": "code",
   "execution_count": 6,
   "metadata": {},
   "outputs": [],
   "source": [
    "def mserror(X, w, y_pred):\n",
    "    y = X.dot(w)\n",
    "    return (sum((y - y_pred)**2)) / len(y)"
   ]
  },
  {
   "cell_type": "code",
   "execution_count": 7,
   "metadata": {},
   "outputs": [],
   "source": [
    "alpha = 5e-6\n",
    "max_iter = 1e4\n",
    "min_weight_dist = 1e-8\n",
    "weight_dist = np.inf\n",
    "iter_num = 0"
   ]
  },
  {
   "cell_type": "code",
   "execution_count": 8,
   "metadata": {},
   "outputs": [
    {
     "name": "stdout",
     "output_type": "stream",
     "text": [
      "Iteration: 500, mse = 22.46665853410524\n",
      "Iteration: 1000, mse = 19.146791660750303\n",
      "Iteration: 1500, mse = 16.32360362354961\n",
      "Iteration: 2000, mse = 13.922658492317677\n",
      "Iteration: 2500, mse = 11.880697085510235\n",
      "Iteration: 3000, mse = 10.143955256819305\n",
      "Iteration: 3500, mse = 8.666735795680058\n",
      "Iteration: 4000, mse = 7.410195600808027\n",
      "Iteration: 4500, mse = 6.341315597594228\n",
      "Iteration: 5000, mse = 5.432025798439575\n",
      "Iteration: 5500, mse = 4.658462084619256\n",
      "Iteration: 6000, mse = 4.000334833128737\n",
      "Iteration: 6500, mse = 3.4403925188313846\n",
      "Iteration: 7000, mse = 2.9639659729951107\n",
      "Iteration: 7500, mse = 2.5585811433553762\n",
      "Iteration: 8000, mse = 2.213630036972459\n",
      "Iteration: 8500, mse = 1.9200910851928545\n",
      "Iteration: 9000, mse = 1.6702914922121501\n",
      "Iteration: 9500, mse = 1.4577052508733517\n",
      "Iteration: 10000, mse = 1.2767814617687883\n",
      "Total itteration number: 10000, mse = 1.2767814617687883\n"
     ]
    }
   ],
   "source": [
    "while weight_dist > min_weight_dist and iter_num < max_iter:\n",
    "    new_w = w - 2 * alpha * np.dot(X.T, (np.dot(X, w) - Y)) / Y.shape[0]\n",
    "    weight_dist = np.linalg.norm(new_w - w, ord=2)\n",
    "        \n",
    "    iter_num += 1\n",
    "    w = new_w\n",
    "    \n",
    "    if iter_num%500==0:\n",
    "        print(f'Iteration: {iter_num}, mse = {mserror(X, new_w, Y)}')  \n",
    "        \n",
    "print(f'Total itteration number: {iter_num}, mse = {mserror(X, new_w, Y)}')   "
   ]
  },
  {
   "cell_type": "code",
   "execution_count": 9,
   "metadata": {},
   "outputs": [],
   "source": [
    "# другой вариант реализации алгоритма "
   ]
  },
  {
   "cell_type": "code",
   "execution_count": 10,
   "metadata": {},
   "outputs": [
    {
     "data": {
      "text/plain": [
       "array([[-5.8960885 , -0.25067038, -4.25174368, -5.21289941,  2.35283259,\n",
       "         5.33967907,  2.17876585,  2.13111169,  0.72101282,  2.81382077]])"
      ]
     },
     "execution_count": 10,
     "metadata": {},
     "output_type": "execute_result"
    }
   ],
   "source": [
    "X = np.random.uniform(-7, 7, (1, 10))\n",
    "X"
   ]
  },
  {
   "cell_type": "code",
   "execution_count": 11,
   "metadata": {},
   "outputs": [
    {
     "data": {
      "text/plain": [
       "array([[-2.27325136, -1.30360862, -0.37169691, -1.8877307 ,  0.08597444,\n",
       "        -1.65532134, -0.61910489,  3.90174155, -6.88962873,  1.75877796]])"
      ]
     },
     "execution_count": 11,
     "metadata": {},
     "output_type": "execute_result"
    }
   ],
   "source": [
    "y = np.random.uniform(-7, 7, (1, 10))\n",
    "y"
   ]
  },
  {
   "cell_type": "code",
   "execution_count": 12,
   "metadata": {},
   "outputs": [],
   "source": [
    "def mse_(B0,B1,y=y,X=X):\n",
    "    return np.sum((B0+B1*X-y)**2)/len(y)"
   ]
  },
  {
   "cell_type": "code",
   "execution_count": 13,
   "metadata": {},
   "outputs": [],
   "source": [
    "B1 = 0.1\n",
    "B0 = 0.1\n",
    "\n",
    "alpha = 5e-5"
   ]
  },
  {
   "cell_type": "code",
   "execution_count": 14,
   "metadata": {},
   "outputs": [
    {
     "name": "stdout",
     "output_type": "stream",
     "text": [
      "Iteration: 0, B0= 0.09897535693255399, B1 = 0.10102840881362726, mse = 78.01682266719041\n",
      "Iteration: 500, B0= -0.3037433161650144, B1 = 0.17769743154176654, mse = 70.61759206512528\n",
      "Iteration: 1000, B0= -0.5479156613761186, B1 = 0.17764967280953098, mse = 68.18447651092798\n",
      "Iteration: 1500, B0= -0.6959769279075746, B1 = 0.17755967103748085, mse = 67.28982750438641\n",
      "Iteration: 2000, B0= -0.7857583653508429, B1 = 0.17750501566932936, mse = 66.96086767092277\n",
      "Iteration: 2500, B0= -0.8402000617011403, B1 = 0.17747187362493635, mse = 66.83991009846534\n",
      "Iteration: 3000, B0= -0.8732124347027905, B1 = 0.1774517769414679, mse = 66.79543435143951\n",
      "Iteration: 3500, B0= -0.8932304878543277, B1 = 0.17743959070820842, mse = 66.77908074882234\n",
      "Iteration: 4000, B0= -0.905369041237258, B1 = 0.17743220121624145, mse = 66.77306757678038\n",
      "Iteration: 4500, B0= -0.9127296210656195, B1 = 0.1774277203737722, mse = 66.77085655093781\n",
      "Iteration: 5000, B0= -0.9171929317831768, B1 = 0.17742500327910257, mse = 66.7700435631765\n",
      "Iteration: 5500, B0= -0.9198993955436391, B1 = 0.17742335568637993, mse = 66.76974462994504\n",
      "Iteration: 6000, B0= -0.9215405418922208, B1 = 0.17742235661858527, mse = 66.76963471306667\n",
      "Iteration: 6500, B0= -0.9225357007326269, B1 = 0.17742175080354078, mse = 66.76959429695069\n",
      "Iteration: 7000, B0= -0.923139145464106, B1 = 0.17742138344922312, mse = 66.76957943606257\n",
      "Iteration: 7500, B0= -0.9235050624706835, B1 = 0.17742116069279606, mse = 66.76957397175732\n",
      "Iteration: 8000, B0= -0.9237269473405278, B1 = 0.17742102561768372, mse = 66.76957196254818\n",
      "Iteration: 8500, B0= -0.9238614939578778, B1 = 0.17742094371079428, mse = 66.76957122376784\n",
      "Iteration: 9000, B0= -0.9239430803781358, B1 = 0.17742089404406897, mse = 66.76957095212047\n",
      "Iteration: 9500, B0= -0.9239925527773816, B1 = 0.17742086392714446, mse = 66.76957085223653\n"
     ]
    }
   ],
   "source": [
    "for i in range (10000):\n",
    "    y_pred = B0 + B1*X\n",
    "    B0 -= alpha*(2/len(y))*np.sum((y_pred - y))\n",
    "    B1 -= alpha*(2/len(y))*np.sum((y_pred - y)*X)\n",
    "    if i%500==0:\n",
    "        print(f'Iteration: {i}, B0= {B0}, B1 = {B1}, mse = {mse_(B0,B1)}')     "
   ]
  },
  {
   "cell_type": "code",
   "execution_count": null,
   "metadata": {},
   "outputs": [],
   "source": []
  }
 ],
 "metadata": {
  "kernelspec": {
   "display_name": "Python 3",
   "language": "python",
   "name": "python3"
  },
  "language_info": {
   "codemirror_mode": {
    "name": "ipython",
    "version": 3
   },
   "file_extension": ".py",
   "mimetype": "text/x-python",
   "name": "python",
   "nbconvert_exporter": "python",
   "pygments_lexer": "ipython3",
   "version": "3.7.4"
  }
 },
 "nbformat": 4,
 "nbformat_minor": 2
}
